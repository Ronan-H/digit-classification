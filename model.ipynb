{
 "cells": [
  {
   "cell_type": "code",
   "execution_count": 146,
   "metadata": {},
   "outputs": [],
   "source": [
    "# from https://stackoverflow.com/questions/9031783/hide-all-warnings-in-ipython\n",
    "import warnings\n",
    "warnings.filterwarnings('ignore')"
   ]
  },
  {
   "cell_type": "code",
   "execution_count": 147,
   "metadata": {},
   "outputs": [],
   "source": [
    "# https://keras.io/datasets/#mnist-database-of-handwritten-digits\n",
    "from keras.datasets import mnist\n",
    "\n",
    "(x_train, y_train), (x_test, y_test) = mnist.load_data()"
   ]
  },
  {
   "cell_type": "code",
   "execution_count": 148,
   "metadata": {},
   "outputs": [],
   "source": [
    "import numpy as np\n",
    "\n",
    "# preprocessing: convert from grayscale to black and white\n",
    "for val in np.nditer(x_train, op_flags=['readwrite']):\n",
    "    if val > 50:\n",
    "        val[...] = 255\n",
    "    else:\n",
    "        val[...] = 0"
   ]
  },
  {
   "cell_type": "code",
   "execution_count": 149,
   "metadata": {},
   "outputs": [
    {
     "data": {
      "text/plain": [
       "'Label: 5'"
      ]
     },
     "execution_count": 149,
     "metadata": {},
     "output_type": "execute_result"
    },
    {
     "data": {
      "image/png": "[encoded data removed]",
      "text/plain": [
       "<matplotlib.figure.Figure at 0x7f13d7a8c828>"
      ]
     },
     "metadata": {
      "needs_background": "light"
     },
     "output_type": "display_data"
    }
   ],
   "source": [
    "%matplotlib inline\n",
    "import matplotlib.pyplot as plt\n",
    "\n",
    "plt.imshow([255 - i for i in x_train[0]], cmap='gray')\n",
    "\"Label: {}\".format(y_train[0])"
   ]
  },
  {
   "cell_type": "code",
   "execution_count": 150,
   "metadata": {},
   "outputs": [
    {
     "name": "stdout",
     "output_type": "stream",
     "text": [
      "5\n"
     ]
    },
    {
     "data": {
      "text/plain": [
       "array([0, 0, 0, 0, 0, 1, 0, 0, 0, 0], dtype=uint8)"
      ]
     },
     "execution_count": 150,
     "metadata": {},
     "output_type": "execute_result"
    }
   ],
   "source": [
    "import keras\n",
    "\n",
    "x_train = np.reshape(x_train, (60000, 784))\n",
    "x_test = np.reshape(x_test, (10000, 784))\n",
    "\n",
    "# https://keras.io/getting-started/sequential-model-guide/\n",
    "y_train_cat = keras.utils.to_categorical(y_train, num_classes=10, dtype=\"uint8\")\n",
    "y_test_cat = keras.utils.to_categorical(y_test, num_classes=10, dtype=\"uint8\")\n",
    "\n",
    "print(y_train[0])\n",
    "y_train_cat[0]"
   ]
  },
  {
   "cell_type": "code",
   "execution_count": 155,
   "metadata": {},
   "outputs": [],
   "source": [
    "from keras import Sequential\n",
    "from keras import layers\n",
    "\n",
    "# Dense (500, linear)\n",
    "# Dense (100, linear)\n",
    "# Dense (10, softmax)\n",
    "# [0.6122526635818183, 0.8727999925613403]\n",
    "model = Sequential()\n",
    "model.add(layers.Dense(250, activation='linear', input_dim=784))\n",
    "model.add(layers.Dense(60, activation='linear'))\n",
    "model.add(layers.Dense(30, activation='linear'))\n",
    "model.add(layers.Dense(10, activation='softmax'))\n",
    "\n",
    "model.compile(optimizer='rmsprop',\n",
    "              loss='categorical_crossentropy',\n",
    "              metrics=['accuracy'])"
   ]
  },
  {
   "cell_type": "code",
   "execution_count": 156,
   "metadata": {},
   "outputs": [
    {
     "name": "stdout",
     "output_type": "stream",
     "text": [
      "Epoch 1/10\n",
      "60000/60000 [==============================] - 6s 97us/step - loss: 14.8179 - accuracy: 0.8036\n",
      "Epoch 2/10\n",
      "60000/60000 [==============================] - 6s 93us/step - loss: 2.3255 - accuracy: 0.8138\n",
      "Epoch 3/10\n",
      "60000/60000 [==============================] - 6s 93us/step - loss: 1.3122 - accuracy: 0.8235\n",
      "Epoch 4/10\n",
      "60000/60000 [==============================] - 6s 93us/step - loss: 0.7863 - accuracy: 0.8403\n",
      "Epoch 5/10\n",
      "60000/60000 [==============================] - 6s 92us/step - loss: 0.5909 - accuracy: 0.8542\n",
      "Epoch 6/10\n",
      "60000/60000 [==============================] - 6s 92us/step - loss: 0.5119 - accuracy: 0.8655\n",
      "Epoch 7/10\n",
      "60000/60000 [==============================] - 6s 93us/step - loss: 0.4666 - accuracy: 0.8756\n",
      "Epoch 8/10\n",
      "60000/60000 [==============================] - 6s 93us/step - loss: 0.4319 - accuracy: 0.8817\n",
      "Epoch 9/10\n",
      "60000/60000 [==============================] - 6s 92us/step - loss: 0.4169 - accuracy: 0.8828\n",
      "Epoch 10/10\n",
      "60000/60000 [==============================] - 6s 94us/step - loss: 0.4071 - accuracy: 0.8845\n"
     ]
    },
    {
     "data": {
      "text/plain": [
       "<keras.callbacks.callbacks.History at 0x7f13d23ea898>"
      ]
     },
     "execution_count": 156,
     "metadata": {},
     "output_type": "execute_result"
    }
   ],
   "source": [
    "model.fit(x_train, y_train_cat, epochs=10, batch_size=32)"
   ]
  },
  {
   "cell_type": "code",
   "execution_count": 157,
   "metadata": {},
   "outputs": [
    {
     "name": "stdout",
     "output_type": "stream",
     "text": [
      "10000/10000 [==============================] - 0s 40us/step\n"
     ]
    },
    {
     "data": {
      "text/plain": [
       "[0.3602799182653427, 0.8934000134468079]"
      ]
     },
     "execution_count": 157,
     "metadata": {},
     "output_type": "execute_result"
    }
   ],
   "source": [
    "scores = model.evaluate(x_test, y_test_cat)\n",
    "scores"
   ]
  },
  {
   "cell_type": "code",
   "execution_count": 158,
   "metadata": {},
   "outputs": [
    {
     "data": {
      "text/plain": [
       "<Container object of 10 artists>"
      ]
     },
     "execution_count": 158,
     "metadata": {},
     "output_type": "execute_result"
    },
    {
     "data": {
      "image/png": "[encoded data removed]",
      "text/plain": [
       "<matplotlib.figure.Figure at 0x7f149e34d358>"
      ]
     },
     "metadata": {
      "needs_background": "light"
     },
     "output_type": "display_data"
    },
    {
     "data": {
      "image/png": "[encoded data removed]",
      "text/plain": [
       "<matplotlib.figure.Figure at 0x7f149e3361d0>"
      ]
     },
     "metadata": {
      "needs_background": "light"
     },
     "output_type": "display_data"
    }
   ],
   "source": [
    "predictions = model.predict_classes(x_test)\n",
    "# [\"Output: {} - Label: {}\".format(predictions[i], y_test[i]) for i in range(len(predictions)) if predictions[i] != y_test[i]]\n",
    "\n",
    "# https://stackoverflow.com/questions/4535374/initialize-a-numpy-array\n",
    "nums = np.arange(0, 10)\n",
    "wrong_out_dist = np.zeros((10,))\n",
    "wrong_out_label_dist = np.zeros((10,))\n",
    "\n",
    "for i in range(len(predictions)):\n",
    "    if predictions[i] != y_test[i]:\n",
    "        wrong_out_dist[predictions[i]] += 1\n",
    "        wrong_out_label_dist[y_test[i]] += 1\n",
    "\n",
    "# https://stackoverflow.com/questions/33203645/how-to-plot-a-histogram-using-matplotlib-in-python-with-a-list-of-data\n",
    "# https://www.programcreek.com/python/example/56587/matplotlib.pyplot.title\n",
    "plt.title(\"Incorrect outputs\")\n",
    "plt.xlabel(\"Output\")\n",
    "plt.ylabel(\"Frequency\")\n",
    "plt.bar(nums, wrong_out_dist, tick_label=nums)\n",
    "\n",
    "plt.figure()\n",
    "plt.title(\"Incorrect outputs (actual label)\")\n",
    "plt.xlabel(\"Actual label\")\n",
    "plt.ylabel(\"Frequency\")\n",
    "plt.bar(nums, wrong_out_label_dist, tick_label=nums)"
   ]
  },
  {
   "cell_type": "code",
   "execution_count": null,
   "metadata": {},
   "outputs": [],
   "source": []
  }
 ],
 "metadata": {
  "kernelspec": {
   "display_name": "Python 3",
   "language": "python",
   "name": "python3"
  },
  "language_info": {
   "codemirror_mode": {
    "name": "ipython",
    "version": 3
   },
   "file_extension": ".py",
   "mimetype": "text/x-python",
   "name": "python",
   "nbconvert_exporter": "python",
   "pygments_lexer": "ipython3",
   "version": "3.6.8"
  }
 },
 "nbformat": 4,
 "nbformat_minor": 4
}
