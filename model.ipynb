{
 "cells": [
  {
   "cell_type": "markdown",
   "metadata": {},
   "source": [
    "# Digit classification model"
   ]
  },
  {
   "cell_type": "markdown",
   "metadata": {},
   "source": [
    "Starting off with imports and ignoring warnings (to make things a bit tidier)"
   ]
  },
  {
   "cell_type": "code",
   "execution_count": 1,
   "metadata": {},
   "outputs": [
    {
     "name": "stderr",
     "output_type": "stream",
     "text": [
      "Using TensorFlow backend.\n"
     ]
    }
   ],
   "source": [
    "# from https://stackoverflow.com/questions/9031783/hide-all-warnings-in-ipython\n",
    "import warnings\n",
    "warnings.filterwarnings('ignore')\n",
    "\n",
    "import numpy as np\n",
    "import keras\n",
    "from keras.datasets import mnist\n",
    "from keras import Sequential\n",
    "from keras import layers\n",
    "import matplotlib.pyplot as plt"
   ]
  },
  {
   "cell_type": "markdown",
   "metadata": {},
   "source": [
    "Make sure my GPU is found, so the training can be done on my graphics card.\n",
    "\n",
    "(this notebook should still work without a compatible graphics card set up, though)"
   ]
  },
  {
   "cell_type": "code",
   "execution_count": 2,
   "metadata": {},
   "outputs": [
    {
     "name": "stdout",
     "output_type": "stream",
     "text": [
      "Num GPUs Available:  1\n"
     ]
    }
   ],
   "source": [
    "# from https://www.tensorflow.org/guide/gpu\n",
    "from __future__ import absolute_import, division, print_function, unicode_literals\n",
    "\n",
    "import tensorflow as tf\n",
    "print(\"Num GPUs Available: \", len(tf.config.experimental.list_physical_devices('GPU')))"
   ]
  },
  {
   "cell_type": "markdown",
   "metadata": {},
   "source": [
    "### Loading the MNIST data set\n",
    "Keras comes packed with some commonly used data sets, including the MNIST handwritten digit database.\n",
    "\n",
    "This makes it very easy to get started."
   ]
  },
  {
   "cell_type": "code",
   "execution_count": 3,
   "metadata": {},
   "outputs": [],
   "source": [
    "# from https://keras.io/datasets/#mnist-database-of-handwritten-digits\n",
    "(x_train_raw, y_train_raw), (x_test_raw, y_test_raw) = mnist.load_data()"
   ]
  },
  {
   "cell_type": "markdown",
   "metadata": {},
   "source": [
    "The next step is to convert the data set values into a form that fits our model.\n",
    "\n",
    "This includes converting the labels into a binary class matrix, and reshaping the digit pixel values."
   ]
  },
  {
   "cell_type": "code",
   "execution_count": 4,
   "metadata": {},
   "outputs": [],
   "source": [
    "# from https://keras.io/getting-started/sequential-model-guide/\n",
    "y_train = keras.utils.to_categorical(y_train_raw, num_classes=10, dtype=\"uint8\")\n",
    "y_test = keras.utils.to_categorical(y_test_raw, num_classes=10, dtype=\"uint8\")\n",
    "\n",
    "x_train = x_train_raw.reshape(60000,28,28,1)\n",
    "x_test = x_test_raw.reshape(10000,28,28,1)"
   ]
  },
  {
   "cell_type": "markdown",
   "metadata": {},
   "source": [
    "Here is how a single digit can be rendered on a graph using MatPlotLib.\n",
    "\n",
    "Note that the pixel values are inverted, because the MNIST data set is white on a black background, while typically you would expect it to be the other way around."
   ]
  },
  {
   "cell_type": "code",
   "execution_count": 5,
   "metadata": {},
   "outputs": [
    {
     "data": {
      "image/png": "[encoded data removed]",
      "text/plain": [
       "<matplotlib.figure.Figure at 0x7f267677d940>"
      ]
     },
     "metadata": {},
     "output_type": "display_data"
    }
   ],
   "source": [
    "%matplotlib inline\n",
    "\n",
    "def plot_digit(img_vals, label=None):\n",
    "    # disable ticks/labels\n",
    "    # https://matplotlib.org/3.1.1/api/_as_gen/matplotlib.pyplot.tick_params.html\n",
    "    plt.tick_params(\n",
    "        axis='both',\n",
    "        which='both',\n",
    "        bottom=False,\n",
    "        left=False,\n",
    "        labelbottom=False,\n",
    "        labelleft=False)\n",
    "    plt.imshow([255 - i for i in img_vals], cmap='gray')\n",
    "    if label is not None:\n",
    "        # add label below the image\n",
    "        plt.rcParams.update({'font.size': 20})\n",
    "        plt.xlabel(\"Label: {}\".format(label), fontsize=\"medium\")\n",
    "        plt.rcParams.update({'font.size': 15})\n",
    "    plt.show()\n",
    "\n",
    "plot_digit(x_train_raw[0], y_train_raw[0])"
   ]
  },
  {
   "cell_type": "markdown",
   "metadata": {},
   "source": [
    "Here is where the model gets built. I decided to use a convolutional neural network for my model, because they perform very well for image classification problems.\n",
    "\n",
    "I watched [this](https://youtu.be/py5byOOHZM8) video by Computerphile to learn how CNNs work.\n",
    "\n",
    "The basic idea is that at each convolutional layer (Conv2D), a [kernel](https://en.wikipedia.org/wiki/Kernel_(image_processing)) is passed over the image, extracting many different features (eg. edges). Since I use two convolutional layers, a kernal is passed again over those features to produce another, smaller, set of features. During backpropagation, the neural network can figure out how the features relate to the digits 0-9, and produce a prediction."
   ]
  },
  {
   "cell_type": "code",
   "execution_count": 6,
   "metadata": {},
   "outputs": [],
   "source": [
    "# decided on what layers to use, in what order, and which parameters, from a few different sources:\n",
    "# https://keras.io/layers/convolutional/\n",
    "# https://keras.io/examples/mnist_cnn/\n",
    "# https://towardsdatascience.com/building-a-convolutional-neural-network-cnn-in-keras-329fbbadc5f5\n",
    "# https://www.kaggle.com/yassineghouzam/introduction-to-cnn-keras-0-997-top-6\n",
    "\n",
    "# https://towardsdatascience.com/deciding-optimal-filter-size-for-cnns-d6f7b56f9363\n",
    "# https://machinelearningmastery.com/dropout-regularization-deep-learning-models-keras/\n",
    "\n",
    "model = Sequential()\n",
    "\n",
    "# pull out big features in the layer (large kernel)\n",
    "model.add(layers.Conv2D(32, kernel_size=5, activation=\"relu\", input_shape=(28,28,1)))\n",
    "model.add(layers.MaxPooling2D(pool_size=(2, 2)))\n",
    "model.add(layers.Dropout(0.3))\n",
    "\n",
    "# pull out smaller features from these big features (small kernel)\n",
    "model.add(layers.Conv2D(32, kernel_size=3, activation=\"relu\"))\n",
    "model.add(layers.Conv2D(64, kernel_size=3, activation=\"relu\"))\n",
    "model.add(layers.MaxPooling2D(pool_size=(2, 2)))\n",
    "model.add(layers.Dropout(0.3))\n",
    "\n",
    "# finally, a simple dense layer of neurons\n",
    "model.add(layers.Flatten())\n",
    "model.add(layers.Dense(256, activation='relu'))\n",
    "model.add(layers.Dropout(0.3))\n",
    "model.add(layers.Dense(10, activation='softmax'))\n",
    "\n",
    "model.compile(optimizer='adam',\n",
    "              loss='categorical_crossentropy',\n",
    "              metrics=['accuracy'])"
   ]
  },
  {
   "cell_type": "markdown",
   "metadata": {},
   "source": [
    "This trains the model.\n",
    "\n",
    "**Epoch:** One complete pass over the training set. 18 epochs = 18 passes over the training data.\n",
    "\n",
    "**Batch size:** Number of digits to train on the network in one go."
   ]
  },
  {
   "cell_type": "code",
   "execution_count": 7,
   "metadata": {},
   "outputs": [
    {
     "name": "stdout",
     "output_type": "stream",
     "text": [
      "Epoch 1/18\n",
      "60000/60000 [==============================] - 3s 54us/step - loss: 2.0172 - accuracy: 0.6911\n",
      "Epoch 2/18\n",
      "60000/60000 [==============================] - 2s 36us/step - loss: 0.2416 - accuracy: 0.9245\n",
      "Epoch 3/18\n",
      "60000/60000 [==============================] - 2s 37us/step - loss: 0.1618 - accuracy: 0.9505\n",
      "Epoch 4/18\n",
      "60000/60000 [==============================] - 2s 36us/step - loss: 0.1261 - accuracy: 0.9604\n",
      "Epoch 5/18\n",
      "60000/60000 [==============================] - 2s 36us/step - loss: 0.1023 - accuracy: 0.9681\n",
      "Epoch 6/18\n",
      "60000/60000 [==============================] - 2s 36us/step - loss: 0.0884 - accuracy: 0.9721\n",
      "Epoch 7/18\n",
      "60000/60000 [==============================] - 2s 36us/step - loss: 0.0788 - accuracy: 0.9760\n",
      "Epoch 8/18\n",
      "60000/60000 [==============================] - 2s 35us/step - loss: 0.0691 - accuracy: 0.9793\n",
      "Epoch 9/18\n",
      "60000/60000 [==============================] - 2s 35us/step - loss: 0.0631 - accuracy: 0.9799\n",
      "Epoch 10/18\n",
      "60000/60000 [==============================] - 2s 35us/step - loss: 0.0595 - accuracy: 0.9815\n",
      "Epoch 11/18\n",
      "60000/60000 [==============================] - 2s 35us/step - loss: 0.0547 - accuracy: 0.9832\n",
      "Epoch 12/18\n",
      "60000/60000 [==============================] - 2s 36us/step - loss: 0.0518 - accuracy: 0.9840\n",
      "Epoch 13/18\n",
      "60000/60000 [==============================] - 2s 36us/step - loss: 0.0489 - accuracy: 0.9846\n",
      "Epoch 14/18\n",
      "60000/60000 [==============================] - 2s 36us/step - loss: 0.0473 - accuracy: 0.9856\n",
      "Epoch 15/18\n",
      "60000/60000 [==============================] - 2s 36us/step - loss: 0.0428 - accuracy: 0.9865\n",
      "Epoch 16/18\n",
      "60000/60000 [==============================] - 2s 37us/step - loss: 0.0423 - accuracy: 0.9866\n",
      "Epoch 17/18\n",
      "60000/60000 [==============================] - 2s 36us/step - loss: 0.0399 - accuracy: 0.9873\n",
      "Epoch 18/18\n",
      "60000/60000 [==============================] - 2s 36us/step - loss: 0.0376 - accuracy: 0.9883\n"
     ]
    },
    {
     "data": {
      "text/plain": [
       "<keras.callbacks.callbacks.History at 0x7f267677d828>"
      ]
     },
     "execution_count": 7,
     "metadata": {},
     "output_type": "execute_result"
    }
   ],
   "source": [
    "model.fit(x_train, y_train, epochs=18, batch_size=500)"
   ]
  },
  {
   "cell_type": "markdown",
   "metadata": {},
   "source": [
    "Evaluate the model on the test set.\n",
    "\n",
    "(60,000 digits are for training, and the remaining 10,000 are for testing)"
   ]
  },
  {
   "cell_type": "code",
   "execution_count": 8,
   "metadata": {},
   "outputs": [
    {
     "name": "stdout",
     "output_type": "stream",
     "text": [
      "10000/10000 [==============================] - 1s 93us/step\n"
     ]
    },
    {
     "data": {
      "text/plain": [
       "[0.01917938077029394, 0.9933000206947327]"
      ]
     },
     "execution_count": 8,
     "metadata": {},
     "output_type": "execute_result"
    }
   ],
   "source": [
    "model.evaluate(x_test, y_test)"
   ]
  },
  {
   "cell_type": "markdown",
   "metadata": {},
   "source": [
    "As a demonstration of the model, this code creates a bar chart showing the frequency of incorrect predictions produced by the model for each digit."
   ]
  },
  {
   "cell_type": "code",
   "execution_count": 9,
   "metadata": {},
   "outputs": [
    {
     "data": {
      "text/plain": [
       "<Container object of 10 artists>"
      ]
     },
     "execution_count": 9,
     "metadata": {},
     "output_type": "execute_result"
    },
    {
     "data": {
      "image/png": "[encoded data removed]",
      "text/plain": [
       "<matplotlib.figure.Figure at 0x7f2604468c88>"
      ]
     },
     "metadata": {
      "needs_background": "light"
     },
     "output_type": "display_data"
    },
    {
     "data": {
      "image/png": "[encoded data removed]",
      "text/plain": [
       "<matplotlib.figure.Figure at 0x7f26f212e7b8>"
      ]
     },
     "metadata": {
      "needs_background": "light"
     },
     "output_type": "display_data"
    }
   ],
   "source": [
    "prediction_classes = model.predict_classes(x_test)\n",
    "\n",
    "# initialize arrays\n",
    "nums = np.arange(0, 10)\n",
    "wrong_out_dist = np.zeros((10,))\n",
    "wrong_out_label_dist = np.zeros((10,))\n",
    "\n",
    "# compare predictions to actual labels\n",
    "for i in range(len(prediction_classes)):\n",
    "    if prediction_classes[i] != y_test_raw[i]:\n",
    "        wrong_out_dist[prediction_classes[i]] += 1\n",
    "        wrong_out_label_dist[y_test_raw[i]] += 1\n",
    "\n",
    "# https://stackoverflow.com/questions/33203645/how-to-plot-a-histogram-using-matplotlib-in-python-with-a-list-of-data\n",
    "# https://www.programcreek.com/python/example/56587/matplotlib.pyplot.title\n",
    "plt.title(\"Incorrect outputs\")\n",
    "plt.xlabel(\"Output\")\n",
    "plt.ylabel(\"Frequency\")\n",
    "plt.bar(nums, wrong_out_dist, tick_label=nums)\n",
    "\n",
    "plt.figure()\n",
    "plt.title(\"Incorrect outputs (actual label)\")\n",
    "plt.xlabel(\"Actual label\")\n",
    "plt.ylabel(\"Frequency\")\n",
    "plt.bar(nums, wrong_out_label_dist, tick_label=nums)"
   ]
  },
  {
   "cell_type": "markdown",
   "metadata": {},
   "source": [
    "As another demonstration, this code produces the top three digits that the model had trouble classifying.\n",
    "\n",
    "(which should be the three most poorly drawn digits)"
   ]
  },
  {
   "cell_type": "code",
   "execution_count": 10,
   "metadata": {},
   "outputs": [
    {
     "data": {
      "image/png": "[encoded data removed]",
      "text/plain": [
       "<matplotlib.figure.Figure at 0x7f26f203f5f8>"
      ]
     },
     "metadata": {},
     "output_type": "display_data"
    },
    {
     "data": {
      "image/png": "[encoded data removed]",
      "text/plain": [
       "<matplotlib.figure.Figure at 0x7f26f203fd30>"
      ]
     },
     "metadata": {},
     "output_type": "display_data"
    },
    {
     "data": {
      "image/png": "[encoded data removed]",
      "text/plain": [
       "<matplotlib.figure.Figure at 0x7f26f07a24a8>"
      ]
     },
     "metadata": {},
     "output_type": "display_data"
    }
   ],
   "source": [
    "# get predictions for each digit in the test set\n",
    "# (this differs from predict_classes, as this returns a probability distribution for each digit)\n",
    "predictions = model.predict(x_test)\n",
    "# get the highest prediction value for each digit (0-1 because of softmax)\n",
    "confidence = [max(p) for p in predictions]\n",
    "# get indexes of sorted confidence values (smallest to largest)\n",
    "# a small max value from a probility distribution suggests uncertainty\n",
    "confidence_sorted = np.argsort(confidence)\n",
    "\n",
    "# plot those three digits\n",
    "for i in range(3):\n",
    "    plot_digit(x_test_raw[confidence_sorted[i]])"
   ]
  },
  {
   "cell_type": "markdown",
   "metadata": {},
   "source": [
    "May as well train on the test data now too, with less epochs because it's a smaller set of data (10,000 instead of 60,000 images)."
   ]
  },
  {
   "cell_type": "code",
   "execution_count": 11,
   "metadata": {},
   "outputs": [
    {
     "name": "stdout",
     "output_type": "stream",
     "text": [
      "Epoch 1/3\n",
      "10000/10000 [==============================] - 1s 56us/step - loss: 0.0523 - accuracy: 0.9850\n",
      "Epoch 2/3\n",
      "10000/10000 [==============================] - 0s 47us/step - loss: 0.0399 - accuracy: 0.9877\n",
      "Epoch 3/3\n",
      "10000/10000 [==============================] - 0s 46us/step - loss: 0.0410 - accuracy: 0.9866\n"
     ]
    },
    {
     "data": {
      "text/plain": [
       "<keras.callbacks.callbacks.History at 0x7f26f0765470>"
      ]
     },
     "execution_count": 11,
     "metadata": {},
     "output_type": "execute_result"
    }
   ],
   "source": [
    "model.fit(x_test, y_test, epochs=3, batch_size=250)"
   ]
  },
  {
   "cell_type": "markdown",
   "metadata": {},
   "source": [
    "Finally, save the model to disk, to be later read back in on the Flask server."
   ]
  },
  {
   "cell_type": "code",
   "execution_count": 12,
   "metadata": {},
   "outputs": [],
   "source": [
    "# from https://machinelearningmastery.com/save-load-keras-deep-learning-models/\n",
    "model.save(\"./flask/model.h5\")"
   ]
  },
  {
   "cell_type": "code",
   "execution_count": null,
   "metadata": {},
   "outputs": [],
   "source": []
  }
 ],
 "metadata": {
  "kernelspec": {
   "display_name": "Python 3",
   "language": "python",
   "name": "python3"
  },
  "language_info": {
   "codemirror_mode": {
    "name": "ipython",
    "version": 3
   },
   "file_extension": ".py",
   "mimetype": "text/x-python",
   "name": "python",
   "nbconvert_exporter": "python",
   "pygments_lexer": "ipython3",
   "version": "3.6.9"
  }
 },
 "nbformat": 4,
 "nbformat_minor": 4
}
