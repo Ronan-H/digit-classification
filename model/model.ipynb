{
 "cells": [
  {
   "cell_type": "markdown",
   "metadata": {},
   "source": [
    "# Digit classification model"
   ]
  },
  {
   "cell_type": "markdown",
   "metadata": {},
   "source": [
    "Starting off with imports and ignoring warnings (to make things a bit tidier)"
   ]
  },
  {
   "cell_type": "code",
   "execution_count": 87,
   "metadata": {},
   "outputs": [],
   "source": [
    "# from https://stackoverflow.com/questions/9031783/hide-all-warnings-in-ipython\n",
    "import warnings\n",
    "warnings.filterwarnings('ignore')\n",
    "\n",
    "import numpy as np\n",
    "import keras\n",
    "from keras.datasets import mnist\n",
    "from keras import Sequential\n",
    "from keras import layers\n",
    "import matplotlib.pyplot as plt"
   ]
  },
  {
   "cell_type": "markdown",
   "metadata": {},
   "source": [
    "### Loading the MNIST data set\n",
    "Keras comes packed with some commonly used data sets, including the MNIST handwritten digit database.\n",
    "\n",
    "This makes it very easy to get started."
   ]
  },
  {
   "cell_type": "code",
   "execution_count": 88,
   "metadata": {},
   "outputs": [],
   "source": [
    "# from https://keras.io/datasets/#mnist-database-of-handwritten-digits\n",
    "(x_train_raw, y_train_raw), (x_test_raw, y_test_raw) = mnist.load_data()"
   ]
  },
  {
   "cell_type": "markdown",
   "metadata": {},
   "source": [
    "The next step is to convert the data set values into a form that fits our model.\n",
    "\n",
    "This includes converting the labels into a binary class matrix, and reshaping the digit pixel values into multi dimensional arrays."
   ]
  },
  {
   "cell_type": "code",
   "execution_count": 89,
   "metadata": {},
   "outputs": [],
   "source": [
    "# from https://keras.io/getting-started/sequential-model-guide/\n",
    "y_train = keras.utils.to_categorical(y_train_raw, num_classes=10, dtype=\"uint8\")\n",
    "y_test = keras.utils.to_categorical(y_test_raw, num_classes=10, dtype=\"uint8\")\n",
    "\n",
    "x_train = x_train_raw.reshape(60000,28,28,1)\n",
    "x_test = x_test_raw.reshape(10000,28,28,1)"
   ]
  },
  {
   "cell_type": "markdown",
   "metadata": {},
   "source": [
    "Below is some experimental preprocessing, which converts the grayscale images into black and white. I thought this might improve the results, but it didn't make much of a difference.\n",
    "\n",
    "It also could have been useful since the canvas pixels on the Flask page are black and white, but I found it works best to downscale the canvas image using antialiasing, and disable this preprocessing step.\n",
    "\n",
    "(This must be an inefficient way of doing it, because this cell takes several **minutes** to complete.)"
   ]
  },
  {
   "cell_type": "code",
   "execution_count": 90,
   "metadata": {},
   "outputs": [],
   "source": [
    "def to_black_and_white(arr, threshold):\n",
    "    for val in np.nditer(arr, op_flags=['readwrite']):\n",
    "        if val > threshold:\n",
    "            val[...] = 255\n",
    "        else:\n",
    "            val[...] = 0\n",
    "\n",
    "# preprocessing step disabled for now\n",
    "\n",
    "# to_black_and_white(x_train, 15)\n",
    "# to_black_and_white(x_test, 15)"
   ]
  },
  {
   "cell_type": "markdown",
   "metadata": {},
   "source": [
    "Here is how a single digit can be rendered on a graph using MatPlotLib.\n",
    "\n",
    "Note that the pixel values are inverted, because the MNIST data set is white on a black background, while typically you would expect it to be the other way around."
   ]
  },
  {
   "cell_type": "code",
   "execution_count": 91,
   "metadata": {},
   "outputs": [
    {
     "data": {
      "text/plain": [
       "'Label: 5'"
      ]
     },
     "execution_count": 91,
     "metadata": {},
     "output_type": "execute_result"
    },
    {
     "data": {
      "image/png": "[encoded data removed]",
      "text/plain": [
       "<matplotlib.figure.Figure at 0x7fec09c068d0>"
      ]
     },
     "metadata": {
      "needs_background": "light"
     },
     "output_type": "display_data"
    }
   ],
   "source": [
    "%matplotlib inline\n",
    "\n",
    "plt.imshow([255 - i for i in x_train_raw[0]], cmap='gray')\n",
    "\"Label: {}\".format(y_train_raw[0])"
   ]
  },
  {
   "cell_type": "markdown",
   "metadata": {},
   "source": [
    "Here is where the model gets built. I decided to use a convolutional neural network for my model, because they perform very well for image classification problems.\n",
    "\n",
    "I watched [this](https://youtu.be/py5byOOHZM8) video by Computerphile to learn how CNNs work.\n",
    "\n",
    "The basic idea is that at each convolutional layer (Conv2D), a [kernel](https://en.wikipedia.org/wiki/Kernel_(image_processing)) is passed over the image, extracting many different features (eg. edges). Since I use two convolutional layers, a kernal is passed again over those features to produce another, smaller, set of features. During backpropagation, the neural network can figure out how the features relate to the digits 0-9, and produce a prediction."
   ]
  },
  {
   "cell_type": "code",
   "execution_count": 92,
   "metadata": {},
   "outputs": [],
   "source": [
    "# https://towardsdatascience.com/building-a-convolutional-neural-network-cnn-in-keras-329fbbadc5f5\n",
    "# https://towardsdatascience.com/deciding-optimal-filter-size-for-cnns-d6f7b56f9363\n",
    "# https://keras.io/layers/convolutional/\n",
    "# https://keras.io/examples/mnist_cnn/\n",
    "model = Sequential()\n",
    "model.add(layers.Conv2D(32, kernel_size=3, activation=\"relu\", input_shape=(28,28,1)))\n",
    "model.add(layers.MaxPooling2D(pool_size=(2, 2)))\n",
    "model.add(layers.Dropout(0.25))\n",
    "model.add(layers.Conv2D(32, kernel_size=3, activation=\"relu\"))\n",
    "model.add(layers.Flatten())\n",
    "model.add(layers.Dense(10, activation='softmax'))\n",
    "\n",
    "model.compile(optimizer='adam',\n",
    "              loss='categorical_crossentropy',\n",
    "              metrics=['accuracy'])"
   ]
  },
  {
   "cell_type": "markdown",
   "metadata": {},
   "source": [
    "This trains the model.\n",
    "\n",
    "**Epoch:** One complete pass over the training set. 10 epochs = 10 passes over the training data.\n",
    "\n",
    "**Batch size:** Number of digits to train on the network in one go."
   ]
  },
  {
   "cell_type": "code",
   "execution_count": 93,
   "metadata": {},
   "outputs": [
    {
     "name": "stdout",
     "output_type": "stream",
     "text": [
      "Epoch 1/10\n",
      "60000/60000 [==============================] - 11s 180us/step - loss: 0.6487 - accuracy: 0.9137\n",
      "Epoch 2/10\n",
      "60000/60000 [==============================] - 11s 176us/step - loss: 0.0952 - accuracy: 0.9711\n",
      "Epoch 3/10\n",
      "60000/60000 [==============================] - 11s 180us/step - loss: 0.0699 - accuracy: 0.9786\n",
      "Epoch 4/10\n",
      "60000/60000 [==============================] - 11s 178us/step - loss: 0.0579 - accuracy: 0.9819\n",
      "Epoch 5/10\n",
      "60000/60000 [==============================] - 11s 180us/step - loss: 0.0527 - accuracy: 0.9838\n",
      "Epoch 6/10\n",
      "60000/60000 [==============================] - 11s 178us/step - loss: 0.0484 - accuracy: 0.9847\n",
      "Epoch 7/10\n",
      "60000/60000 [==============================] - 11s 179us/step - loss: 0.0443 - accuracy: 0.9857\n",
      "Epoch 8/10\n",
      "60000/60000 [==============================] - 11s 178us/step - loss: 0.0412 - accuracy: 0.9875\n",
      "Epoch 9/10\n",
      "60000/60000 [==============================] - 11s 179us/step - loss: 0.0379 - accuracy: 0.9884\n",
      "Epoch 10/10\n",
      "60000/60000 [==============================] - 11s 179us/step - loss: 0.0374 - accuracy: 0.9884\n"
     ]
    },
    {
     "data": {
      "text/plain": [
       "<keras.callbacks.callbacks.History at 0x7fec7da02128>"
      ]
     },
     "execution_count": 93,
     "metadata": {},
     "output_type": "execute_result"
    }
   ],
   "source": [
    "model.fit(x_train, y_train, epochs=10, batch_size=64)"
   ]
  },
  {
   "cell_type": "markdown",
   "metadata": {},
   "source": [
    "Save the model to disk, to be later read back in on the Flask server."
   ]
  },
  {
   "cell_type": "code",
   "execution_count": 94,
   "metadata": {},
   "outputs": [],
   "source": [
    "# from https://machinelearningmastery.com/save-load-keras-deep-learning-models/\n",
    "model.save(\"model.h5\")"
   ]
  },
  {
   "cell_type": "markdown",
   "metadata": {},
   "source": [
    "Evaluate the model on the test set.\n",
    "\n",
    "(60,000 digits are for training, and the remaining 10,000 are for testing)"
   ]
  },
  {
   "cell_type": "code",
   "execution_count": 95,
   "metadata": {},
   "outputs": [
    {
     "name": "stdout",
     "output_type": "stream",
     "text": [
      "10000/10000 [==============================] - 1s 91us/step\n"
     ]
    },
    {
     "data": {
      "text/plain": [
       "[0.06182478961166198, 0.9828000068664551]"
      ]
     },
     "execution_count": 95,
     "metadata": {},
     "output_type": "execute_result"
    }
   ],
   "source": [
    "scores = model.evaluate(x_test, y_test)\n",
    "scores"
   ]
  },
  {
   "cell_type": "markdown",
   "metadata": {},
   "source": [
    "As a demonstration of the model, this code creates a bar chart showing the frequency of incorrect predictions produced by the model for each digit."
   ]
  },
  {
   "cell_type": "code",
   "execution_count": 96,
   "metadata": {},
   "outputs": [
    {
     "data": {
      "text/plain": [
       "<Container object of 10 artists>"
      ]
     },
     "execution_count": 96,
     "metadata": {},
     "output_type": "execute_result"
    },
    {
     "data": {
      "image/png": "[encoded data removed]",
      "text/plain": [
       "<matplotlib.figure.Figure at 0x7fec7d42a9e8>"
      ]
     },
     "metadata": {
      "needs_background": "light"
     },
     "output_type": "display_data"
    },
    {
     "data": {
      "image/png": "[encoded data removed]",
      "text/plain": [
       "<matplotlib.figure.Figure at 0x7fec7d3f9630>"
      ]
     },
     "metadata": {
      "needs_background": "light"
     },
     "output_type": "display_data"
    }
   ],
   "source": [
    "prediction_classes = model.predict_classes(x_test)\n",
    "\n",
    "# initialize arrays\n",
    "nums = np.arange(0, 10)\n",
    "wrong_out_dist = np.zeros((10,))\n",
    "wrong_out_label_dist = np.zeros((10,))\n",
    "\n",
    "# compare predictions to actual labels\n",
    "for i in range(len(prediction_classes)):\n",
    "    if prediction_classes[i] != y_test_raw[i]:\n",
    "        wrong_out_dist[prediction_classes[i]] += 1\n",
    "        wrong_out_label_dist[y_test_raw[i]] += 1\n",
    "\n",
    "# https://stackoverflow.com/questions/33203645/how-to-plot-a-histogram-using-matplotlib-in-python-with-a-list-of-data\n",
    "# https://www.programcreek.com/python/example/56587/matplotlib.pyplot.title\n",
    "plt.title(\"Incorrect outputs\")\n",
    "plt.xlabel(\"Output\")\n",
    "plt.ylabel(\"Frequency\")\n",
    "plt.bar(nums, wrong_out_dist, tick_label=nums)\n",
    "\n",
    "plt.figure()\n",
    "plt.title(\"Incorrect outputs (actual label)\")\n",
    "plt.xlabel(\"Actual label\")\n",
    "plt.ylabel(\"Frequency\")\n",
    "plt.bar(nums, wrong_out_label_dist, tick_label=nums)"
   ]
  },
  {
   "cell_type": "markdown",
   "metadata": {},
   "source": [
    "As another demonstration, this code produces the top three digits that the model had trouble classifying.\n",
    "\n",
    "(which should be the three most poorly drawn digits)"
   ]
  },
  {
   "cell_type": "code",
   "execution_count": 97,
   "metadata": {},
   "outputs": [
    {
     "data": {
      "image/png": "[encoded data removed]",
      "text/plain": [
       "<matplotlib.figure.Figure at 0x7fec7d38fa20>"
      ]
     },
     "metadata": {
      "needs_background": "light"
     },
     "output_type": "display_data"
    },
    {
     "data": {
      "image/png": "[encoded data removed]",
      "text/plain": [
       "<matplotlib.figure.Figure at 0x7fec1028c2e8>"
      ]
     },
     "metadata": {
      "needs_background": "light"
     },
     "output_type": "display_data"
    },
    {
     "data": {
      "image/png": "[encoded data removed]",
      "text/plain": [
       "<matplotlib.figure.Figure at 0x7fec7d42af28>"
      ]
     },
     "metadata": {
      "needs_background": "light"
     },
     "output_type": "display_data"
    }
   ],
   "source": [
    "# get predictions for each digit in the test set\n",
    "# (this differs from predict_classes, as this returns a probability distribution for each digit)\n",
    "predictions = model.predict(x_test)\n",
    "# get the highest prediction value for each digit (0-1 because of softmax)\n",
    "confidence = [np.std(p) / max(p) for p in predictions]\n",
    "# get indexes of sorted confidence values (smallest to largest)\n",
    "# a small max value from a probility distribution suggests uncertainty\n",
    "confidence_sorted = np.argsort(confidence)\n",
    "\n",
    "# plot those three digits\n",
    "for i in range(3):\n",
    "    plt.imshow([255 - i for i in x_test_raw[confidence_sorted[i]]], cmap='gray')\n",
    "    plt.show()"
   ]
  },
  {
   "cell_type": "code",
   "execution_count": null,
   "metadata": {},
   "outputs": [],
   "source": []
  }
 ],
 "metadata": {
  "kernelspec": {
   "display_name": "Python 3",
   "language": "python",
   "name": "python3"
  },
  "language_info": {
   "codemirror_mode": {
    "name": "ipython",
    "version": 3
   },
   "file_extension": ".py",
   "mimetype": "text/x-python",
   "name": "python",
   "nbconvert_exporter": "python",
   "pygments_lexer": "ipython3",
   "version": "3.6.8"
  }
 },
 "nbformat": 4,
 "nbformat_minor": 4
}
