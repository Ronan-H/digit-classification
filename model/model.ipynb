{
 "cells": [
  {
   "cell_type": "code",
   "execution_count": 7,
   "metadata": {},
   "outputs": [],
   "source": [
    "# from https://stackoverflow.com/questions/9031783/hide-all-warnings-in-ipython\n",
    "import warnings\n",
    "warnings.filterwarnings('ignore')"
   ]
  },
  {
   "cell_type": "code",
   "execution_count": 8,
   "metadata": {},
   "outputs": [],
   "source": [
    "# https://keras.io/datasets/#mnist-database-of-handwritten-digits\n",
    "from keras.datasets import mnist\n",
    "\n",
    "(x_train_raw, y_train_raw), (x_test_raw, y_test_raw) = mnist.load_data()"
   ]
  },
  {
   "cell_type": "code",
   "execution_count": 9,
   "metadata": {},
   "outputs": [],
   "source": [
    "import numpy as np\n",
    "import keras\n",
    "\n",
    "# https://youtu.be/py5byOOHZM8\n",
    "# https://keras.io/getting-started/sequential-model-guide/\n",
    "y_train = keras.utils.to_categorical(y_train_raw, num_classes=10, dtype=\"uint8\")\n",
    "y_test = keras.utils.to_categorical(y_test_raw, num_classes=10, dtype=\"uint8\")\n",
    "x_train = x_train_raw.reshape(60000,28,28,1)\n",
    "x_test = x_test_raw.reshape(10000,28,28,1)\n",
    "\n",
    "# preprocessing: convert from grayscale to black and white\n",
    "# 98.5 without, 0.9803 with\n",
    "def to_black_and_white(arr, threshold):\n",
    "    for val in np.nditer(arr, op_flags=['readwrite']):\n",
    "        if val > threshold:\n",
    "            val[...] = 255\n",
    "        else:\n",
    "            val[...] = 0\n",
    "\n",
    "to_black_and_white(x_train, 15)\n",
    "to_black_and_white(x_test, 15)\n"
   ]
  },
  {
   "cell_type": "code",
   "execution_count": 10,
   "metadata": {},
   "outputs": [
    {
     "data": {
      "text/plain": [
       "'Label: 5'"
      ]
     },
     "execution_count": 10,
     "metadata": {},
     "output_type": "execute_result"
    },
    {
     "data": {
      "image/png": "[encoded data removed]",
      "text/plain": [
       "<matplotlib.figure.Figure at 0x7f859efbe6a0>"
      ]
     },
     "metadata": {
      "needs_background": "light"
     },
     "output_type": "display_data"
    }
   ],
   "source": [
    "%matplotlib inline\n",
    "import matplotlib.pyplot as plt\n",
    "\n",
    "plt.imshow([255 - i for i in x_train_raw[0]], cmap='gray')\n",
    "\"Label: {}\".format(y_train_raw[0])"
   ]
  },
  {
   "cell_type": "code",
   "execution_count": 11,
   "metadata": {},
   "outputs": [],
   "source": [
    "from keras import Sequential\n",
    "from keras import layers\n",
    "\n",
    "# Dense (500, linear)\n",
    "# Dense (100, linear)\n",
    "# Dense (10, softmax)\n",
    "# [0.6122526635818183, 0.8727999925613403]\n",
    "\n",
    "# https://towardsdatascience.com/building-a-convolutional-neural-network-cnn-in-keras-329fbbadc5f5\n",
    "# https://towardsdatascience.com/deciding-optimal-filter-size-for-cnns-d6f7b56f9363\n",
    "# https://keras.io/layers/convolutional/\n",
    "model = Sequential()\n",
    "model.add(layers.Conv2D(32, kernel_size=3, activation=\"relu\", input_shape=(28,28,1)))\n",
    "model.add(layers.Dropout(0.25))\n",
    "model.add(layers.Conv2D(32, kernel_size=3, activation=\"relu\"))\n",
    "model.add(layers.Flatten())\n",
    "model.add(layers.Dense(10, activation='softmax'))\n",
    "\n",
    "model.compile(optimizer='rmsprop',\n",
    "              loss='categorical_crossentropy',\n",
    "              metrics=['accuracy'])"
   ]
  },
  {
   "cell_type": "code",
   "execution_count": 12,
   "metadata": {},
   "outputs": [
    {
     "name": "stdout",
     "output_type": "stream",
     "text": [
      "Epoch 1/10\n",
      "60000/60000 [==============================] - 31s 517us/step - loss: 0.4240 - accuracy: 0.9356\n",
      "Epoch 2/10\n",
      "60000/60000 [==============================] - 32s 525us/step - loss: 0.1111 - accuracy: 0.9686\n",
      "Epoch 3/10\n",
      "60000/60000 [==============================] - 30s 507us/step - loss: 0.1034 - accuracy: 0.9710\n",
      "Epoch 4/10\n",
      "60000/60000 [==============================] - 32s 527us/step - loss: 0.0988 - accuracy: 0.9721\n",
      "Epoch 5/10\n",
      "60000/60000 [==============================] - 33s 558us/step - loss: 0.0982 - accuracy: 0.9724\n",
      "Epoch 6/10\n",
      "60000/60000 [==============================] - 31s 518us/step - loss: 0.0964 - accuracy: 0.9724\n",
      "Epoch 7/10\n",
      "60000/60000 [==============================] - 32s 531us/step - loss: 0.0954 - accuracy: 0.9725\n",
      "Epoch 8/10\n",
      "60000/60000 [==============================] - 30s 502us/step - loss: 0.0955 - accuracy: 0.9721\n",
      "Epoch 9/10\n",
      "60000/60000 [==============================] - 32s 525us/step - loss: 0.0946 - accuracy: 0.9726\n",
      "Epoch 10/10\n",
      "60000/60000 [==============================] - 31s 515us/step - loss: 0.0938 - accuracy: 0.9733\n"
     ]
    },
    {
     "data": {
      "text/plain": [
       "<keras.callbacks.callbacks.History at 0x7f859c2c3390>"
      ]
     },
     "execution_count": 12,
     "metadata": {},
     "output_type": "execute_result"
    }
   ],
   "source": [
    "# training\n",
    "model.fit(x_train, y_train, epochs=10, batch_size=32)"
   ]
  },
  {
   "cell_type": "code",
   "execution_count": 13,
   "metadata": {},
   "outputs": [
    {
     "name": "stdout",
     "output_type": "stream",
     "text": [
      "Saved model to disk\n"
     ]
    }
   ],
   "source": [
    "# https://machinelearningmastery.com/save-load-keras-deep-learning-models/\n",
    "# save model\n",
    "model.save(\"model.h5\")\n",
    "print(\"Saved model to disk\")"
   ]
  },
  {
   "cell_type": "code",
   "execution_count": 14,
   "metadata": {},
   "outputs": [
    {
     "name": "stdout",
     "output_type": "stream",
     "text": [
      "10000/10000 [==============================] - 1s 112us/step\n"
     ]
    },
    {
     "data": {
      "text/plain": [
       "[0.11558663325347006, 0.9660999774932861]"
      ]
     },
     "execution_count": 14,
     "metadata": {},
     "output_type": "execute_result"
    }
   ],
   "source": [
    "# evaluation\n",
    "scores = model.evaluate(x_test, y_test)\n",
    "scores"
   ]
  },
  {
   "cell_type": "code",
   "execution_count": 15,
   "metadata": {},
   "outputs": [
    {
     "data": {
      "text/plain": [
       "<Container object of 10 artists>"
      ]
     },
     "execution_count": 15,
     "metadata": {},
     "output_type": "execute_result"
    },
    {
     "data": {
      "image/png": "[encoded data removed]",
      "text/plain": [
       "<matplotlib.figure.Figure at 0x7f859bef9e80>"
      ]
     },
     "metadata": {
      "needs_background": "light"
     },
     "output_type": "display_data"
    },
    {
     "data": {
      "image/png": "[encoded data removed]",
      "text/plain": [
       "<matplotlib.figure.Figure at 0x7f859be52630>"
      ]
     },
     "metadata": {
      "needs_background": "light"
     },
     "output_type": "display_data"
    }
   ],
   "source": [
    "prediction_classes = model.predict_classes(x_test)\n",
    "# [\"Output: {} - Label: {}\".format(predictions[i], y_test[i]) for i in range(len(predictions)) if predictions[i] != y_test[i]]\n",
    "\n",
    "# https://stackoverflow.com/questions/4535374/initialize-a-numpy-array\n",
    "nums = np.arange(0, 10)\n",
    "wrong_out_dist = np.zeros((10,))\n",
    "wrong_out_label_dist = np.zeros((10,))\n",
    "\n",
    "for i in range(len(prediction_classes)):\n",
    "    if prediction_classes[i] != y_test_raw[i]:\n",
    "        wrong_out_dist[prediction_classes[i]] += 1\n",
    "        wrong_out_label_dist[y_test_raw[i]] += 1\n",
    "\n",
    "# https://stackoverflow.com/questions/33203645/how-to-plot-a-histogram-using-matplotlib-in-python-with-a-list-of-data\n",
    "# https://www.programcreek.com/python/example/56587/matplotlib.pyplot.title\n",
    "plt.title(\"Incorrect outputs\")\n",
    "plt.xlabel(\"Output\")\n",
    "plt.ylabel(\"Frequency\")\n",
    "plt.bar(nums, wrong_out_dist, tick_label=nums)\n",
    "\n",
    "plt.figure()\n",
    "plt.title(\"Incorrect outputs (actual label)\")\n",
    "plt.xlabel(\"Actual label\")\n",
    "plt.ylabel(\"Frequency\")\n",
    "plt.bar(nums, wrong_out_label_dist, tick_label=nums)"
   ]
  },
  {
   "cell_type": "code",
   "execution_count": 16,
   "metadata": {},
   "outputs": [],
   "source": [
    "predictions = model.predict(x_test)\n",
    "# same as below because of softmax?\n",
    "# probs = model.predict_proba(x_test)"
   ]
  },
  {
   "cell_type": "code",
   "execution_count": 17,
   "metadata": {},
   "outputs": [
    {
     "name": "stdout",
     "output_type": "stream",
     "text": [
      "[0.29028213, 0.2928972, 0.29498735, 0.31952435, 0.36168727]\n"
     ]
    }
   ],
   "source": [
    "confidence = [max(p) for p in predictions]\n",
    "print(sorted(confidence)[:5])\n",
    "confidence_sorted = np.argsort(confidence)"
   ]
  },
  {
   "cell_type": "code",
   "execution_count": 18,
   "metadata": {},
   "outputs": [
    {
     "data": {
      "image/png": "[encoded data removed]",
      "text/plain": [
       "<matplotlib.figure.Figure at 0x7f859c25b710>"
      ]
     },
     "metadata": {
      "needs_background": "light"
     },
     "output_type": "display_data"
    },
    {
     "data": {
      "image/png": "[encoded data removed]",
      "text/plain": [
       "<matplotlib.figure.Figure at 0x7f859bd0eb38>"
      ]
     },
     "metadata": {
      "needs_background": "light"
     },
     "output_type": "display_data"
    },
    {
     "data": {
      "image/png": "[encoded data removed]",
      "text/plain": [
       "<matplotlib.figure.Figure at 0x7f859bd4a940>"
      ]
     },
     "metadata": {
      "needs_background": "light"
     },
     "output_type": "display_data"
    }
   ],
   "source": [
    "for i in range(3):\n",
    "    plt.imshow([255 - i for i in x_test_raw[confidence_sorted[i]]], cmap='gray')\n",
    "    plt.show()\n",
    "    #\"Label: {}\".format(y_test_raw[lowest_confidence[i]])"
   ]
  },
  {
   "cell_type": "code",
   "execution_count": null,
   "metadata": {},
   "outputs": [],
   "source": []
  }
 ],
 "metadata": {
  "kernelspec": {
   "display_name": "Python 3",
   "language": "python",
   "name": "python3"
  },
  "language_info": {
   "codemirror_mode": {
    "name": "ipython",
    "version": 3
   },
   "file_extension": ".py",
   "mimetype": "text/x-python",
   "name": "python",
   "nbconvert_exporter": "python",
   "pygments_lexer": "ipython3",
   "version": "3.6.8"
  }
 },
 "nbformat": 4,
 "nbformat_minor": 4
}
